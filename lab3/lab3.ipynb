{
 "cells": [
  {
   "cell_type": "code",
   "execution_count": 3,
   "id": "cc649511",
   "metadata": {},
   "outputs": [],
   "source": [
    "from sklearn.neighbors import KNeighborsClassifier\n",
    "import numpy as np\n",
    "from sklearn.model_selection import train_test_split\n",
    "import matplotlib.pyplot as plt\n",
    "import pandas as pd"
   ]
  },
  {
   "cell_type": "code",
   "execution_count": 35,
   "id": "5de63ebc",
   "metadata": {},
   "outputs": [
    {
     "data": {
      "text/html": [
       "<div>\n",
       "<style scoped>\n",
       "    .dataframe tbody tr th:only-of-type {\n",
       "        vertical-align: middle;\n",
       "    }\n",
       "\n",
       "    .dataframe tbody tr th {\n",
       "        vertical-align: top;\n",
       "    }\n",
       "\n",
       "    .dataframe thead th {\n",
       "        text-align: right;\n",
       "    }\n",
       "</style>\n",
       "<table border=\"1\" class=\"dataframe\">\n",
       "  <thead>\n",
       "    <tr style=\"text-align: right;\">\n",
       "      <th></th>\n",
       "      <th>Sports Car?</th>\n",
       "      <th>Wagon?</th>\n",
       "      <th>Minivan?</th>\n",
       "      <th>Pickup?</th>\n",
       "      <th>All-Wheel Drive?</th>\n",
       "      <th>Rear-Wheel Drive?</th>\n",
       "      <th>Suggested Retail Price</th>\n",
       "      <th>Dealer Cost</th>\n",
       "      <th>Engine Size</th>\n",
       "      <th>Number of Cylinders</th>\n",
       "      <th>Horsepower</th>\n",
       "      <th>City Miles Per Gallon</th>\n",
       "      <th>Highway Miles Per Gallon</th>\n",
       "      <th>Weight</th>\n",
       "      <th>Wheel Base</th>\n",
       "      <th>Length</th>\n",
       "      <th>Width</th>\n",
       "    </tr>\n",
       "  </thead>\n",
       "  <tbody>\n",
       "    <tr>\n",
       "      <th>0</th>\n",
       "      <td>0</td>\n",
       "      <td>0</td>\n",
       "      <td>0</td>\n",
       "      <td>0</td>\n",
       "      <td>0</td>\n",
       "      <td>0</td>\n",
       "      <td>11690</td>\n",
       "      <td>10965</td>\n",
       "      <td>1.6</td>\n",
       "      <td>4</td>\n",
       "      <td>103</td>\n",
       "      <td>28</td>\n",
       "      <td>34</td>\n",
       "      <td>2370</td>\n",
       "      <td>98</td>\n",
       "      <td>167</td>\n",
       "      <td>66</td>\n",
       "    </tr>\n",
       "    <tr>\n",
       "      <th>1</th>\n",
       "      <td>0</td>\n",
       "      <td>0</td>\n",
       "      <td>0</td>\n",
       "      <td>0</td>\n",
       "      <td>0</td>\n",
       "      <td>0</td>\n",
       "      <td>12585</td>\n",
       "      <td>11802</td>\n",
       "      <td>1.6</td>\n",
       "      <td>4</td>\n",
       "      <td>103</td>\n",
       "      <td>28</td>\n",
       "      <td>34</td>\n",
       "      <td>2348</td>\n",
       "      <td>98</td>\n",
       "      <td>153</td>\n",
       "      <td>66</td>\n",
       "    </tr>\n",
       "    <tr>\n",
       "      <th>2</th>\n",
       "      <td>0</td>\n",
       "      <td>0</td>\n",
       "      <td>0</td>\n",
       "      <td>0</td>\n",
       "      <td>0</td>\n",
       "      <td>0</td>\n",
       "      <td>14610</td>\n",
       "      <td>13697</td>\n",
       "      <td>2.2</td>\n",
       "      <td>4</td>\n",
       "      <td>140</td>\n",
       "      <td>26</td>\n",
       "      <td>37</td>\n",
       "      <td>2617</td>\n",
       "      <td>104</td>\n",
       "      <td>183</td>\n",
       "      <td>69</td>\n",
       "    </tr>\n",
       "    <tr>\n",
       "      <th>3</th>\n",
       "      <td>0</td>\n",
       "      <td>0</td>\n",
       "      <td>0</td>\n",
       "      <td>0</td>\n",
       "      <td>0</td>\n",
       "      <td>0</td>\n",
       "      <td>14810</td>\n",
       "      <td>13884</td>\n",
       "      <td>2.2</td>\n",
       "      <td>4</td>\n",
       "      <td>140</td>\n",
       "      <td>26</td>\n",
       "      <td>37</td>\n",
       "      <td>2676</td>\n",
       "      <td>104</td>\n",
       "      <td>183</td>\n",
       "      <td>68</td>\n",
       "    </tr>\n",
       "    <tr>\n",
       "      <th>4</th>\n",
       "      <td>0</td>\n",
       "      <td>0</td>\n",
       "      <td>0</td>\n",
       "      <td>0</td>\n",
       "      <td>0</td>\n",
       "      <td>0</td>\n",
       "      <td>16385</td>\n",
       "      <td>15357</td>\n",
       "      <td>2.2</td>\n",
       "      <td>4</td>\n",
       "      <td>140</td>\n",
       "      <td>26</td>\n",
       "      <td>37</td>\n",
       "      <td>2617</td>\n",
       "      <td>104</td>\n",
       "      <td>183</td>\n",
       "      <td>69</td>\n",
       "    </tr>\n",
       "  </tbody>\n",
       "</table>\n",
       "</div>"
      ],
      "text/plain": [
       "   Sports Car?  Wagon?  Minivan?  Pickup?  All-Wheel Drive?  \\\n",
       "0            0       0         0        0                 0   \n",
       "1            0       0         0        0                 0   \n",
       "2            0       0         0        0                 0   \n",
       "3            0       0         0        0                 0   \n",
       "4            0       0         0        0                 0   \n",
       "\n",
       "   Rear-Wheel Drive?  Suggested Retail Price  Dealer Cost  Engine Size  \\\n",
       "0                  0                   11690        10965          1.6   \n",
       "1                  0                   12585        11802          1.6   \n",
       "2                  0                   14610        13697          2.2   \n",
       "3                  0                   14810        13884          2.2   \n",
       "4                  0                   16385        15357          2.2   \n",
       "\n",
       "   Number of Cylinders  Horsepower  City Miles Per Gallon  \\\n",
       "0                    4         103                     28   \n",
       "1                    4         103                     28   \n",
       "2                    4         140                     26   \n",
       "3                    4         140                     26   \n",
       "4                    4         140                     26   \n",
       "\n",
       "   Highway Miles Per Gallon  Weight  Wheel Base  Length  Width  \n",
       "0                        34    2370          98     167     66  \n",
       "1                        34    2348          98     153     66  \n",
       "2                        37    2617         104     183     69  \n",
       "3                        37    2676         104     183     68  \n",
       "4                        37    2617         104     183     69  "
      ]
     },
     "execution_count": 35,
     "metadata": {},
     "output_type": "execute_result"
    }
   ],
   "source": [
    "df = pd.read_csv(\"cars.csv\", delimiter=';')\n",
    "cols= ['Sports Car?', 'Wagon?', 'Minivan?', 'Pickup?', 'All-Wheel Drive?', 'Rear-Wheel Drive?', 'Suggested Retail Price', 'Dealer Cost', 'Engine Size', 'Number of Cylinders', 'Horsepower', 'City Miles Per Gallon', 'Highway Miles Per Gallon', 'Weight', 'Wheel Base', 'Length', 'Width']\n",
    "data = df[cols]\n",
    "data.head()"
   ]
  },
  {
   "cell_type": "code",
   "execution_count": 112,
   "id": "3aa31d74",
   "metadata": {},
   "outputs": [
    {
     "data": {
      "text/plain": [
       "array([[  0.,   0.,   0., ..., 108., 191.,  71.],\n",
       "       [  0.,   0.,   0., ..., 108., 191.,  72.],\n",
       "       [  0.,   0.,   0., ..., 109., 190.,  74.],\n",
       "       ...,\n",
       "       [  0.,   1.,   0., ...,  99., 175.,  68.],\n",
       "       [  0.,   0.,   0., ...,  99., 168.,  68.],\n",
       "       [  0.,   0.,   0., ..., 115., 194.,  73.]])"
      ]
     },
     "execution_count": 112,
     "metadata": {},
     "output_type": "execute_result"
    }
   ],
   "source": [
    "X_train, X_test, Y_train, Y_test = train_test_split(data.values, df['Sport Utility Vehicle?'].values, random_state=0)\n",
    "X_test"
   ]
  },
  {
   "cell_type": "code",
   "execution_count": 90,
   "id": "f4c3025f",
   "metadata": {},
   "outputs": [
    {
     "data": {
      "text/plain": [
       "KNeighborsClassifier(n_neighbors=2)"
      ]
     },
     "execution_count": 90,
     "metadata": {},
     "output_type": "execute_result"
    }
   ],
   "source": [
    "knn = KNeighborsClassifier(n_neighbors = 2) # k = 1,2,3\n",
    "knn.fit(X_train, Y_train)"
   ]
  },
  {
   "cell_type": "code",
   "execution_count": 91,
   "id": "748074aa",
   "metadata": {},
   "outputs": [
    {
     "data": {
      "text/plain": [
       "(array([0], dtype=int64), array([0], dtype=int64))"
      ]
     },
     "execution_count": 91,
     "metadata": {},
     "output_type": "execute_result"
    }
   ],
   "source": [
    "x_new1 = np.array([[0, 0, 0, 0, 1, 0, 41475, 36494, 6, 10, 310, 15, 19, 7190, 137, 227, 80]]) #внедорожник\n",
    "x_new2 = np.array([[1, 0, 0, 0, 0, 1, 33500, 30710, 5, 8, 340, 19, 26, 3725, 110, 190, 73]]) # не внедорожник\n",
    "prediction1 = knn.predict(x_new1)\n",
    "prediction2 = knn.predict(x_new2)\n",
    "prediction1, prediction2"
   ]
  },
  {
   "cell_type": "code",
   "execution_count": 92,
   "id": "f57b8f09",
   "metadata": {},
   "outputs": [
    {
     "data": {
      "text/plain": [
       "0.8762886597938144"
      ]
     },
     "execution_count": 92,
     "metadata": {},
     "output_type": "execute_result"
    }
   ],
   "source": [
    "knn.score(X_test, Y_test)"
   ]
  },
  {
   "cell_type": "code",
   "execution_count": 93,
   "id": "9cdba32e",
   "metadata": {},
   "outputs": [],
   "source": [
    "import scipy as sp"
   ]
  },
  {
   "cell_type": "code",
   "execution_count": 102,
   "id": "5c6736c6",
   "metadata": {},
   "outputs": [
    {
     "data": {
      "text/plain": [
       "array([[64, 16],\n",
       "       [17,  0]], dtype=int64)"
      ]
     },
     "execution_count": 102,
     "metadata": {},
     "output_type": "execute_result"
    }
   ],
   "source": [
    "contingency_table = sp.sparse.coo_matrix((np.ones_like(Y_test), (X_test[:, 0], Y_test)), shape=(np.unique(X_test[:, 0]).shape[0], np.unique(Y_test).shape[0])).A\n",
    "contingency_table"
   ]
  },
  {
   "cell_type": "code",
   "execution_count": null,
   "id": "01952d5c",
   "metadata": {},
   "outputs": [],
   "source": []
  }
 ],
 "metadata": {
  "kernelspec": {
   "display_name": "Python 3 (ipykernel)",
   "language": "python",
   "name": "python3"
  },
  "language_info": {
   "codemirror_mode": {
    "name": "ipython",
    "version": 3
   },
   "file_extension": ".py",
   "mimetype": "text/x-python",
   "name": "python",
   "nbconvert_exporter": "python",
   "pygments_lexer": "ipython3",
   "version": "3.8.2"
  }
 },
 "nbformat": 4,
 "nbformat_minor": 5
}
